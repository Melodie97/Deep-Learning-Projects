{
  "nbformat": 4,
  "nbformat_minor": 0,
  "metadata": {
    "colab": {
      "provenance": [],
      "gpuType": "T4"
    },
    "kernelspec": {
      "name": "python3",
      "display_name": "Python 3"
    },
    "language_info": {
      "name": "python"
    },
    "accelerator": "GPU"
  },
  "cells": [
    {
      "cell_type": "markdown",
      "source": [
        "## Multiclass Classification of Reuters newswires dataset"
      ],
      "metadata": {
        "id": "XA6zw4zG68ti"
      }
    },
    {
      "cell_type": "code",
      "source": [
        "from tensorflow import keras\n",
        "from tensorflow.keras import layers"
      ],
      "metadata": {
        "id": "C81oWazI824Y"
      },
      "execution_count": 1,
      "outputs": []
    },
    {
      "cell_type": "code",
      "execution_count": 2,
      "metadata": {
        "colab": {
          "base_uri": "https://localhost:8080/"
        },
        "id": "B_DpfCqB6fjn",
        "outputId": "165cf0a7-ccf7-479a-f650-79c12ba065a4"
      },
      "outputs": [
        {
          "output_type": "stream",
          "name": "stdout",
          "text": [
            "Downloading data from https://storage.googleapis.com/tensorflow/tf-keras-datasets/reuters.npz\n",
            "2110848/2110848 [==============================] - 0s 0us/step\n"
          ]
        }
      ],
      "source": [
        "from tensorflow.keras.datasets import reuters\n",
        "(train_data, train_labels), (test_data, test_labels) = reuters.load_data(num_words=10000) #only keep the top 10,000 most frequently occurring words in the training data. Rare words will be discarded."
      ]
    },
    {
      "cell_type": "code",
      "source": [
        "len(train_data)"
      ],
      "metadata": {
        "colab": {
          "base_uri": "https://localhost:8080/"
        },
        "id": "tvFg6flE9Fcy",
        "outputId": "7c75538c-e74f-4eb5-c596-5493e6960e74"
      },
      "execution_count": 3,
      "outputs": [
        {
          "output_type": "execute_result",
          "data": {
            "text/plain": [
              "8982"
            ]
          },
          "metadata": {},
          "execution_count": 3
        }
      ]
    },
    {
      "cell_type": "code",
      "source": [
        "len(test_data)"
      ],
      "metadata": {
        "colab": {
          "base_uri": "https://localhost:8080/"
        },
        "id": "hbVIgRMn9KHy",
        "outputId": "ebcd2d81-7ef3-4dbf-f630-d6b122562b1f"
      },
      "execution_count": 4,
      "outputs": [
        {
          "output_type": "execute_result",
          "data": {
            "text/plain": [
              "2246"
            ]
          },
          "metadata": {},
          "execution_count": 4
        }
      ]
    },
    {
      "cell_type": "code",
      "source": [
        "train_data[0][:10]  # lists of newswires; each newswire is a list of word indices (encoding a sequence of words)."
      ],
      "metadata": {
        "colab": {
          "base_uri": "https://localhost:8080/"
        },
        "id": "jWjm1f389tFb",
        "outputId": "d144e32b-7e7b-423e-a4bf-3bc80cfdc5f7"
      },
      "execution_count": 6,
      "outputs": [
        {
          "output_type": "execute_result",
          "data": {
            "text/plain": [
              "[1, 2, 2, 8, 43, 10, 447, 5, 25, 207]"
            ]
          },
          "metadata": {},
          "execution_count": 6
        }
      ]
    },
    {
      "cell_type": "code",
      "source": [
        "train_labels[0]  #list of 46 different classes"
      ],
      "metadata": {
        "colab": {
          "base_uri": "https://localhost:8080/"
        },
        "id": "xB5a-ShC95AK",
        "outputId": "13dd235f-4bc9-4e29-f803-4601d91af56f"
      },
      "execution_count": 7,
      "outputs": [
        {
          "output_type": "execute_result",
          "data": {
            "text/plain": [
              "3"
            ]
          },
          "metadata": {},
          "execution_count": 7
        }
      ]
    },
    {
      "cell_type": "code",
      "source": [
        "#decoding newswires back to text\n",
        "word_index = reuters.get_word_index()  #word_index is a dictionary mapping words to an integer index.\n",
        "reverse_word_index = dict([(value, key) for (key, value) in word_index.items()])  #Reverses it, mapping integer indices to words\n",
        "decoded_newswire = \" \".join([reverse_word_index.get(i - 3, \"?\") for i in train_data[0]]) #Decodes the newswire. Note that the indices are offset by 3 because 0, 1, and 2 are reserved indices for “padding,” “start of sequence,” and “unknown.”"
      ],
      "metadata": {
        "colab": {
          "base_uri": "https://localhost:8080/"
        },
        "id": "_iL0rIl_9Ll5",
        "outputId": "b8428867-bcd0-4cc6-81a2-9dcc3854b0c3"
      },
      "execution_count": 5,
      "outputs": [
        {
          "output_type": "stream",
          "name": "stdout",
          "text": [
            "Downloading data from https://storage.googleapis.com/tensorflow/tf-keras-datasets/reuters_word_index.json\n",
            "550378/550378 [==============================] - 0s 0us/step\n"
          ]
        }
      ]
    },
    {
      "cell_type": "code",
      "source": [
        "decoded_newswire"
      ],
      "metadata": {
        "colab": {
          "base_uri": "https://localhost:8080/",
          "height": 70
        },
        "id": "bOX9ZQvT9oc5",
        "outputId": "dd734a9d-a36f-40c1-d805-25d0551ca6fd"
      },
      "execution_count": 8,
      "outputs": [
        {
          "output_type": "execute_result",
          "data": {
            "text/plain": [
              "'? ? ? said as a result of its december acquisition of space co it expects earnings per share in 1987 of 1 15 to 1 30 dlrs per share up from 70 cts in 1986 the company said pretax net should rise to nine to 10 mln dlrs from six mln dlrs in 1986 and rental operation revenues to 19 to 22 mln dlrs from 12 5 mln dlrs it said cash flow per share this year should be 2 50 to three dlrs reuter 3'"
            ],
            "application/vnd.google.colaboratory.intrinsic+json": {
              "type": "string"
            }
          },
          "metadata": {},
          "execution_count": 8
        }
      ]
    },
    {
      "cell_type": "markdown",
      "source": [
        "### Preparing the data"
      ],
      "metadata": {
        "id": "1o7S7OWA-btg"
      }
    },
    {
      "cell_type": "code",
      "source": [
        "import numpy as np"
      ],
      "metadata": {
        "id": "YjMGtf9v-TzH"
      },
      "execution_count": 9,
      "outputs": []
    },
    {
      "cell_type": "code",
      "source": [
        "def vectorize_sequences(sequences, dimension=10000):\n",
        "    results = np.zeros((len(sequences), dimension))\n",
        "    for i, sequence in enumerate(sequences):\n",
        "        for j in sequence:\n",
        "          results[i, j] = 1.\n",
        "    return results"
      ],
      "metadata": {
        "id": "FFYpCAxa-ew2"
      },
      "execution_count": 10,
      "outputs": []
    },
    {
      "cell_type": "code",
      "source": [
        "x_train = vectorize_sequences(train_data)\n",
        "x_test = vectorize_sequences(test_data)"
      ],
      "metadata": {
        "id": "eAI4IQbQ-kIE"
      },
      "execution_count": 11,
      "outputs": []
    },
    {
      "cell_type": "markdown",
      "source": [
        "To vectorize the labels, there are two possibilities: you can cast the label list as an integer tensor, or you can use one-hot encoding. One-hot encoding is a widely used format for categorical data, also called categorical encoding. In this case, one-hot encoding of the labels consists of embedding each label as an all-zero vector with a 1 in the place of the label index."
      ],
      "metadata": {
        "id": "2gfk4NCm-5AF"
      }
    },
    {
      "cell_type": "code",
      "source": [
        "# can be done exactly like the vector sequences function or we can use a function in keras\n",
        "from tensorflow.keras.utils import to_categorical\n",
        "y_train = to_categorical(train_labels)\n",
        "y_test = to_categorical(test_labels)"
      ],
      "metadata": {
        "id": "Z2nSssUq-pT5"
      },
      "execution_count": 12,
      "outputs": []
    },
    {
      "cell_type": "markdown",
      "source": [
        "### Building the model"
      ],
      "metadata": {
        "id": "kZXqWteq_98-"
      }
    },
    {
      "cell_type": "code",
      "source": [
        "model = keras.Sequential([\n",
        "    layers.Dense(64, activation=\"relu\"),   #A 16-dimensional space may be too limited to learn to separate 46 different classes\n",
        "    layers.Dense(64, activation=\"relu\"),\n",
        "    layers.Dense(46, activation=\"softmax\") #the model will produce a 46-dimensional output vector, where output[i] is the probability that the sample belongs to class i\n",
        "])"
      ],
      "metadata": {
        "id": "I_6ObY1k_Oyt"
      },
      "execution_count": 13,
      "outputs": []
    },
    {
      "cell_type": "code",
      "source": [
        "model.compile(optimizer=\"rmsprop\",\n",
        "    loss=\"categorical_crossentropy\", #measures the distance between two probability distributions: between the probability distribution output by the model and the true distribution of the labels\n",
        "    metrics=[\"accuracy\"])"
      ],
      "metadata": {
        "id": "qtlH3rqKAEk8"
      },
      "execution_count": 14,
      "outputs": []
    },
    {
      "cell_type": "code",
      "source": [
        "# Validating your approach\n",
        "x_val = x_train[:1000]\n",
        "partial_x_train = x_train[1000:]\n",
        "y_val = y_train[:1000]\n",
        "partial_y_train = y_train[1000:]"
      ],
      "metadata": {
        "id": "fDCQA-3zBQWL"
      },
      "execution_count": 15,
      "outputs": []
    },
    {
      "cell_type": "markdown",
      "source": [
        "### Training the model"
      ],
      "metadata": {
        "id": "mFLZyW6BB5Zo"
      }
    },
    {
      "cell_type": "code",
      "source": [
        "history = model.fit(\n",
        "    partial_x_train,\n",
        "    partial_y_train,\n",
        "    epochs=20,\n",
        "    batch_size=512,\n",
        "    validation_data=(x_val, y_val)\n",
        ")"
      ],
      "metadata": {
        "colab": {
          "base_uri": "https://localhost:8080/"
        },
        "id": "iERgzR5KBzjq",
        "outputId": "192faf2b-40a1-46f2-b9ed-bac07bc87e59"
      },
      "execution_count": 16,
      "outputs": [
        {
          "output_type": "stream",
          "name": "stdout",
          "text": [
            "Epoch 1/20\n",
            "16/16 [==============================] - 2s 38ms/step - loss: 2.6659 - accuracy: 0.4843 - val_loss: 1.8307 - val_accuracy: 0.6100\n",
            "Epoch 2/20\n",
            "16/16 [==============================] - 0s 17ms/step - loss: 1.5814 - accuracy: 0.6635 - val_loss: 1.4441 - val_accuracy: 0.6700\n",
            "Epoch 3/20\n",
            "16/16 [==============================] - 0s 18ms/step - loss: 1.2528 - accuracy: 0.7189 - val_loss: 1.2445 - val_accuracy: 0.7130\n",
            "Epoch 4/20\n",
            "16/16 [==============================] - 0s 16ms/step - loss: 1.0324 - accuracy: 0.7665 - val_loss: 1.1143 - val_accuracy: 0.7530\n",
            "Epoch 5/20\n",
            "16/16 [==============================] - 0s 19ms/step - loss: 0.8587 - accuracy: 0.8147 - val_loss: 1.0341 - val_accuracy: 0.7770\n",
            "Epoch 6/20\n",
            "16/16 [==============================] - 0s 16ms/step - loss: 0.7167 - accuracy: 0.8489 - val_loss: 0.9664 - val_accuracy: 0.7880\n",
            "Epoch 7/20\n",
            "16/16 [==============================] - 0s 19ms/step - loss: 0.5959 - accuracy: 0.8728 - val_loss: 0.9243 - val_accuracy: 0.8000\n",
            "Epoch 8/20\n",
            "16/16 [==============================] - 0s 17ms/step - loss: 0.5008 - accuracy: 0.8949 - val_loss: 0.8938 - val_accuracy: 0.8010\n",
            "Epoch 9/20\n",
            "16/16 [==============================] - 0s 17ms/step - loss: 0.4262 - accuracy: 0.9107 - val_loss: 0.8745 - val_accuracy: 0.8140\n",
            "Epoch 10/20\n",
            "16/16 [==============================] - 0s 21ms/step - loss: 0.3615 - accuracy: 0.9268 - val_loss: 0.8561 - val_accuracy: 0.8190\n",
            "Epoch 11/20\n",
            "16/16 [==============================] - 0s 21ms/step - loss: 0.3104 - accuracy: 0.9395 - val_loss: 0.8989 - val_accuracy: 0.8060\n",
            "Epoch 12/20\n",
            "16/16 [==============================] - 0s 20ms/step - loss: 0.2690 - accuracy: 0.9427 - val_loss: 0.8591 - val_accuracy: 0.8240\n",
            "Epoch 13/20\n",
            "16/16 [==============================] - 0s 24ms/step - loss: 0.2427 - accuracy: 0.9473 - val_loss: 0.9123 - val_accuracy: 0.8100\n",
            "Epoch 14/20\n",
            "16/16 [==============================] - 0s 21ms/step - loss: 0.2144 - accuracy: 0.9490 - val_loss: 0.9026 - val_accuracy: 0.8090\n",
            "Epoch 15/20\n",
            "16/16 [==============================] - 0s 21ms/step - loss: 0.1929 - accuracy: 0.9508 - val_loss: 0.8796 - val_accuracy: 0.8150\n",
            "Epoch 16/20\n",
            "16/16 [==============================] - 0s 22ms/step - loss: 0.1815 - accuracy: 0.9518 - val_loss: 0.8765 - val_accuracy: 0.8240\n",
            "Epoch 17/20\n",
            "16/16 [==============================] - 0s 22ms/step - loss: 0.1624 - accuracy: 0.9553 - val_loss: 0.8944 - val_accuracy: 0.8200\n",
            "Epoch 18/20\n",
            "16/16 [==============================] - 0s 21ms/step - loss: 0.1539 - accuracy: 0.9565 - val_loss: 0.8960 - val_accuracy: 0.8120\n",
            "Epoch 19/20\n",
            "16/16 [==============================] - 0s 16ms/step - loss: 0.1454 - accuracy: 0.9567 - val_loss: 0.9885 - val_accuracy: 0.8110\n",
            "Epoch 20/20\n",
            "16/16 [==============================] - 0s 14ms/step - loss: 0.1363 - accuracy: 0.9563 - val_loss: 0.9370 - val_accuracy: 0.8100\n"
          ]
        }
      ]
    },
    {
      "cell_type": "markdown",
      "source": [
        "### Plotting the training and validation loss & Accuracy"
      ],
      "metadata": {
        "id": "N-nv5IHICQ0T"
      }
    },
    {
      "cell_type": "code",
      "source": [
        "import matplotlib.pyplot as plt\n",
        "\n",
        "#  Plotting the training and validation loss\n",
        "\n",
        "history_dict = history.history\n",
        "loss_values = history_dict[\"loss\"]\n",
        "val_loss_values = history_dict[\"val_loss\"]\n",
        "epochs = range(1, len(loss_values) + 1)\n",
        "plt.plot(epochs, loss_values, \"bo\", label=\"Training loss\")   # \"bo\" is for \"blue dot.\"\n",
        "plt.plot(epochs, val_loss_values, \"b\", label=\"Validation loss\") # \"b\" is for \"solid blue line.\"\n",
        "plt.title(\"Training and validation loss\")\n",
        "plt.xlabel(\"Epochs\")\n",
        "plt.ylabel(\"Loss\")\n",
        "plt.legend()\n",
        "plt.show()\n"
      ],
      "metadata": {
        "colab": {
          "base_uri": "https://localhost:8080/",
          "height": 472
        },
        "id": "3Ilx65SDCEQN",
        "outputId": "2d95880a-3182-4d10-e99e-89d7a61f9455"
      },
      "execution_count": 18,
      "outputs": [
        {
          "output_type": "display_data",
          "data": {
            "text/plain": [
              "<Figure size 640x480 with 1 Axes>"
            ],
            "image/png": "[encoded data removed]"
          },
          "metadata": {}
        }
      ]
    },
    {
      "cell_type": "code",
      "source": [
        "#  Plotting the training and validation accuracy\n",
        "\n",
        "plt.clf()  # clears the figure\n",
        "acc = history_dict[\"accuracy\"]\n",
        "val_acc = history_dict[\"val_accuracy\"]\n",
        "plt.plot(epochs, acc, \"bo\", label=\"Training acc\")\n",
        "plt.plot(epochs, val_acc, \"b\", label=\"Validation acc\")\n",
        "plt.title(\"Training and validation accuracy\")\n",
        "plt.xlabel(\"Epochs\")\n",
        "plt.ylabel(\"Accuracy\")\n",
        "plt.legend()\n",
        "plt.show()"
      ],
      "metadata": {
        "colab": {
          "base_uri": "https://localhost:8080/",
          "height": 472
        },
        "id": "cMN8Ncd9CVNA",
        "outputId": "506796cd-c440-45b7-9aa6-2fcce76f9e78"
      },
      "execution_count": 19,
      "outputs": [
        {
          "output_type": "display_data",
          "data": {
            "text/plain": [
              "<Figure size 640x480 with 1 Axes>"
            ],
            "image/png": "[encoded data removed]"
          },
          "metadata": {}
        }
      ]
    },
    {
      "cell_type": "markdown",
      "source": [
        "The model begins to overfit after nine epochs. Let’s train a new model from scratch for nine epochs and then evaluate it on the test set"
      ],
      "metadata": {
        "id": "tFDD9eJrCsrw"
      }
    },
    {
      "cell_type": "markdown",
      "source": [
        "### Optimizing the Model"
      ],
      "metadata": {
        "id": "DQnmPPMiDJ3M"
      }
    },
    {
      "cell_type": "code",
      "source": [
        "model = keras.Sequential([\n",
        "    layers.Dense(64, activation=\"relu\"),\n",
        "    layers.Dense(64, activation=\"relu\"),\n",
        "    layers.Dense(46, activation=\"softmax\")\n",
        "])"
      ],
      "metadata": {
        "id": "brFhkiHMCld-"
      },
      "execution_count": 20,
      "outputs": []
    },
    {
      "cell_type": "code",
      "source": [
        "model.compile(optimizer=\"rmsprop\",\n",
        "    loss=\"categorical_crossentropy\",\n",
        "    metrics=[\"accuracy\"])"
      ],
      "metadata": {
        "id": "IGrrc14nDRZE"
      },
      "execution_count": 21,
      "outputs": []
    },
    {
      "cell_type": "code",
      "source": [
        "model.fit(x_train,\n",
        "    y_train,\n",
        "    epochs=9,\n",
        "    batch_size=512)\n",
        "results = model.evaluate(x_test, y_test)"
      ],
      "metadata": {
        "colab": {
          "base_uri": "https://localhost:8080/"
        },
        "id": "qNkxxg42DaD4",
        "outputId": "af7d2af4-3b8b-40cd-9386-a9ffa22823a3"
      },
      "execution_count": 22,
      "outputs": [
        {
          "output_type": "stream",
          "name": "stdout",
          "text": [
            "Epoch 1/9\n",
            "18/18 [==============================] - 3s 21ms/step - loss: 2.7317 - accuracy: 0.5116\n",
            "Epoch 2/9\n",
            "18/18 [==============================] - 0s 19ms/step - loss: 1.5091 - accuracy: 0.6953\n",
            "Epoch 3/9\n",
            "18/18 [==============================] - 0s 20ms/step - loss: 1.1206 - accuracy: 0.7625\n",
            "Epoch 4/9\n",
            "18/18 [==============================] - 0s 18ms/step - loss: 0.9015 - accuracy: 0.8095\n",
            "Epoch 5/9\n",
            "18/18 [==============================] - 0s 15ms/step - loss: 0.7354 - accuracy: 0.8447\n",
            "Epoch 6/9\n",
            "18/18 [==============================] - 0s 14ms/step - loss: 0.6071 - accuracy: 0.8755\n",
            "Epoch 7/9\n",
            "18/18 [==============================] - 0s 15ms/step - loss: 0.5044 - accuracy: 0.8958\n",
            "Epoch 8/9\n",
            "18/18 [==============================] - 0s 14ms/step - loss: 0.4215 - accuracy: 0.9130\n",
            "Epoch 9/9\n",
            "18/18 [==============================] - 0s 14ms/step - loss: 0.3576 - accuracy: 0.9226\n",
            "71/71 [==============================] - 0s 3ms/step - loss: 0.9480 - accuracy: 0.7881\n"
          ]
        }
      ]
    },
    {
      "cell_type": "code",
      "source": [
        "results"
      ],
      "metadata": {
        "colab": {
          "base_uri": "https://localhost:8080/"
        },
        "id": "-d9NRTs7DldX",
        "outputId": "f3448ce6-e299-4aa6-881f-88f7ee3d9f5d"
      },
      "execution_count": 23,
      "outputs": [
        {
          "output_type": "execute_result",
          "data": {
            "text/plain": [
              "[0.9480260014533997, 0.7880676984786987]"
            ]
          },
          "metadata": {},
          "execution_count": 23
        }
      ]
    },
    {
      "cell_type": "code",
      "source": [
        "predictions = model.predict(x_test)"
      ],
      "metadata": {
        "colab": {
          "base_uri": "https://localhost:8080/"
        },
        "id": "eunoLMw0DmcB",
        "outputId": "07b296d6-40b7-4597-edf4-fad8275a1efd"
      },
      "execution_count": 24,
      "outputs": [
        {
          "output_type": "stream",
          "name": "stdout",
          "text": [
            "71/71 [==============================] - 0s 2ms/step\n"
          ]
        }
      ]
    },
    {
      "cell_type": "code",
      "source": [
        "predictions[0].shape  #Each entry in “predictions” is a vector of length 46"
      ],
      "metadata": {
        "colab": {
          "base_uri": "https://localhost:8080/"
        },
        "id": "p5xQK3gCD5zn",
        "outputId": "d4f6d9b7-2293-4d60-d879-6c819b840396"
      },
      "execution_count": 25,
      "outputs": [
        {
          "output_type": "execute_result",
          "data": {
            "text/plain": [
              "(46,)"
            ]
          },
          "metadata": {},
          "execution_count": 25
        }
      ]
    },
    {
      "cell_type": "code",
      "source": [
        " np.sum(predictions[0])  #The coefficients in this vector sum to 1, as they form a probability distribution"
      ],
      "metadata": {
        "colab": {
          "base_uri": "https://localhost:8080/"
        },
        "id": "y6FrWPDvEMaZ",
        "outputId": "3a81058c-9bd1-4e3d-cfe5-f70826680849"
      },
      "execution_count": 26,
      "outputs": [
        {
          "output_type": "execute_result",
          "data": {
            "text/plain": [
              "0.99999994"
            ]
          },
          "metadata": {},
          "execution_count": 26
        }
      ]
    },
    {
      "cell_type": "code",
      "source": [
        "np.argmax(predictions[0])  #The largest entry is the predicted class—the class with the highest probability"
      ],
      "metadata": {
        "colab": {
          "base_uri": "https://localhost:8080/"
        },
        "id": "k9AqP9XjEeS1",
        "outputId": "6cf893f3-9686-463e-aec2-b42dbee74bf2"
      },
      "execution_count": 27,
      "outputs": [
        {
          "output_type": "execute_result",
          "data": {
            "text/plain": [
              "3"
            ]
          },
          "metadata": {},
          "execution_count": 27
        }
      ]
    },
    {
      "cell_type": "code",
      "source": [
        "predictions[0]"
      ],
      "metadata": {
        "colab": {
          "base_uri": "https://localhost:8080/"
        },
        "id": "W1SaenO_E3gv",
        "outputId": "55f1f8ea-203c-457f-fc7b-77a6b33415c7"
      },
      "execution_count": 28,
      "outputs": [
        {
          "output_type": "execute_result",
          "data": {
            "text/plain": [
              "array([1.0404580e-05, 1.9897063e-05, 7.7840468e-06, 9.1465324e-01,\n",
              "       8.3787426e-02, 9.2449886e-07, 5.5904029e-06, 7.4555686e-07,\n",
              "       4.1924068e-04, 2.8616610e-06, 3.2529699e-06, 5.6613117e-05,\n",
              "       5.4609609e-05, 7.6423661e-05, 5.9135350e-06, 5.8376431e-06,\n",
              "       1.2497464e-04, 1.5383910e-05, 2.4353434e-05, 8.7184468e-05,\n",
              "       1.4279767e-04, 7.1495488e-05, 9.9507884e-07, 3.5931218e-06,\n",
              "       6.1454739e-06, 1.2370955e-05, 6.3631865e-07, 6.6835596e-06,\n",
              "       1.5929577e-06, 6.6998102e-05, 7.1744785e-07, 5.0333016e-05,\n",
              "       2.9890471e-06, 6.3768425e-07, 4.3796816e-05, 3.0609968e-07,\n",
              "       2.1899985e-05, 4.1746840e-05, 1.8963569e-06, 1.4534731e-04,\n",
              "       4.6469099e-06, 4.0503251e-06, 1.8419130e-06, 2.3009009e-06,\n",
              "       1.1013941e-06, 3.5433663e-07], dtype=float32)"
            ]
          },
          "metadata": {},
          "execution_count": 28
        }
      ]
    },
    {
      "cell_type": "code",
      "source": [],
      "metadata": {
        "id": "i04NGVuXFKZx"
      },
      "execution_count": null,
      "outputs": []
    }
  ]
}