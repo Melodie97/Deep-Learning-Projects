{
  "nbformat": 4,
  "nbformat_minor": 0,
  "metadata": {
    "colab": {
      "provenance": [],
      "gpuType": "T4"
    },
    "kernelspec": {
      "name": "python3",
      "display_name": "Python 3"
    },
    "language_info": {
      "name": "python"
    },
    "accelerator": "GPU"
  },
  "cells": [
    {
      "cell_type": "markdown",
      "source": [
        "### Tensorflow"
      ],
      "metadata": {
        "id": "knykJKBCZgll"
      }
    },
    {
      "cell_type": "markdown",
      "source": [
        "#### Tensorflow Constants"
      ],
      "metadata": {
        "id": "IQyAVKetPER3"
      }
    },
    {
      "cell_type": "markdown",
      "source": [
        "All Ones or all zeros tensors"
      ],
      "metadata": {
        "id": "Bp7VWAECIxF8"
      }
    },
    {
      "cell_type": "code",
      "execution_count": 7,
      "metadata": {
        "id": "sQDSKPpYGLAk"
      },
      "outputs": [],
      "source": [
        "import tensorflow as tf"
      ]
    },
    {
      "cell_type": "code",
      "source": [
        "x = tf.ones(shape=(2, 1))\n",
        "print(x)"
      ],
      "metadata": {
        "colab": {
          "base_uri": "https://localhost:8080/"
        },
        "id": "PZYfxZ6HJAIN",
        "outputId": "4288d769-0e43-4eba-ca7b-3506bcd3b0c5"
      },
      "execution_count": 8,
      "outputs": [
        {
          "output_type": "stream",
          "name": "stdout",
          "text": [
            "tf.Tensor(\n",
            "[[1.]\n",
            " [1.]], shape=(2, 1), dtype=float32)\n"
          ]
        }
      ]
    },
    {
      "cell_type": "code",
      "source": [
        "x = tf.zeros(shape=(2, 1))\n",
        "print(x)"
      ],
      "metadata": {
        "colab": {
          "base_uri": "https://localhost:8080/"
        },
        "id": "QSbD4fP3JPP3",
        "outputId": "86f0b98b-3eb2-4b86-aa2a-c0ee22c83209"
      },
      "execution_count": 9,
      "outputs": [
        {
          "output_type": "stream",
          "name": "stdout",
          "text": [
            "tf.Tensor(\n",
            "[[0.]\n",
            " [0.]], shape=(2, 1), dtype=float32)\n"
          ]
        }
      ]
    },
    {
      "cell_type": "markdown",
      "source": [
        "Random tensors"
      ],
      "metadata": {
        "id": "Ltm0V7B9Kgjm"
      }
    },
    {
      "cell_type": "code",
      "source": [
        "x = tf.random.normal(shape=(3, 1), mean=0., stddev=1.)\n",
        "print(x)"
      ],
      "metadata": {
        "colab": {
          "base_uri": "https://localhost:8080/"
        },
        "id": "ZHldTUPoJeOX",
        "outputId": "75c4a005-82f1-4584-fadd-e0289d47b33f"
      },
      "execution_count": 10,
      "outputs": [
        {
          "output_type": "stream",
          "name": "stdout",
          "text": [
            "tf.Tensor(\n",
            "[[ 0.49810886]\n",
            " [-0.8448345 ]\n",
            " [ 0.14695995]], shape=(3, 1), dtype=float32)\n"
          ]
        }
      ]
    },
    {
      "cell_type": "code",
      "source": [
        "x = tf.random.uniform(shape=(3, 1), minval=0., maxval=1.)\n",
        "print(x)"
      ],
      "metadata": {
        "colab": {
          "base_uri": "https://localhost:8080/"
        },
        "id": "23GNM-kzLCP2",
        "outputId": "eac084aa-9f73-4214-96de-b6dcbb275be1"
      },
      "execution_count": 11,
      "outputs": [
        {
          "output_type": "stream",
          "name": "stdout",
          "text": [
            "tf.Tensor(\n",
            "[[0.9936367 ]\n",
            " [0.44624734]\n",
            " [0.9445865 ]], shape=(3, 1), dtype=float32)\n"
          ]
        }
      ]
    },
    {
      "cell_type": "markdown",
      "source": [
        "NumPy arrays are assignable while TensorFlow tensors are not"
      ],
      "metadata": {
        "id": "uwpjArKqL96w"
      }
    },
    {
      "cell_type": "code",
      "source": [
        "import numpy as np\n",
        "x = np.ones(shape=(2, 2))\n",
        "print(x)\n",
        "x[0, 0] = 0.\n",
        "print(x)"
      ],
      "metadata": {
        "colab": {
          "base_uri": "https://localhost:8080/"
        },
        "id": "JdNyWSwcLT0p",
        "outputId": "122219b2-cfc3-4493-dde4-4387526cb1bc"
      },
      "execution_count": 12,
      "outputs": [
        {
          "output_type": "stream",
          "name": "stdout",
          "text": [
            "[[1. 1.]\n",
            " [1. 1.]]\n",
            "[[0. 1.]\n",
            " [1. 1.]]\n"
          ]
        }
      ]
    },
    {
      "cell_type": "code",
      "source": [
        "x = tf.ones(shape=(2, 2))\n",
        "x[0, 0] = 0."
      ],
      "metadata": {
        "colab": {
          "base_uri": "https://localhost:8080/",
          "height": 192
        },
        "id": "_-YnEAcdMNA8",
        "outputId": "a00b88d3-c196-4c52-f778-bd146ce5a160"
      },
      "execution_count": 13,
      "outputs": [
        {
          "output_type": "error",
          "ename": "TypeError",
          "evalue": "ignored",
          "traceback": [
            "\u001b[0;31m---------------------------------------------------------------------------\u001b[0m",
            "\u001b[0;31mTypeError\u001b[0m                                 Traceback (most recent call last)",
            "\u001b[0;32m<ipython-input-13-09deea229eff>\u001b[0m in \u001b[0;36m<cell line: 2>\u001b[0;34m()\u001b[0m\n\u001b[1;32m      1\u001b[0m \u001b[0mx\u001b[0m \u001b[0;34m=\u001b[0m \u001b[0mtf\u001b[0m\u001b[0;34m.\u001b[0m\u001b[0mones\u001b[0m\u001b[0;34m(\u001b[0m\u001b[0mshape\u001b[0m\u001b[0;34m=\u001b[0m\u001b[0;34m(\u001b[0m\u001b[0;36m2\u001b[0m\u001b[0;34m,\u001b[0m \u001b[0;36m2\u001b[0m\u001b[0;34m)\u001b[0m\u001b[0;34m)\u001b[0m\u001b[0;34m\u001b[0m\u001b[0;34m\u001b[0m\u001b[0m\n\u001b[0;32m----> 2\u001b[0;31m \u001b[0mx\u001b[0m\u001b[0;34m[\u001b[0m\u001b[0;36m0\u001b[0m\u001b[0;34m,\u001b[0m \u001b[0;36m0\u001b[0m\u001b[0;34m]\u001b[0m \u001b[0;34m=\u001b[0m \u001b[0;36m0.\u001b[0m\u001b[0;34m\u001b[0m\u001b[0;34m\u001b[0m\u001b[0m\n\u001b[0m",
            "\u001b[0;31mTypeError\u001b[0m: 'tensorflow.python.framework.ops.EagerTensor' object does not support item assignment"
          ]
        }
      ]
    },
    {
      "cell_type": "markdown",
      "source": [
        "#### Tensorflow Variables"
      ],
      "metadata": {
        "id": "8_NBxfUNPMFb"
      }
    },
    {
      "cell_type": "markdown",
      "source": [
        " Creating a TensorFlow variable"
      ],
      "metadata": {
        "id": "OAh5HfXWOygq"
      }
    },
    {
      "cell_type": "code",
      "source": [
        "v = tf.Variable(initial_value=tf.random.normal(shape=(3, 1)))\n",
        "print(v)"
      ],
      "metadata": {
        "colab": {
          "base_uri": "https://localhost:8080/"
        },
        "id": "cvawLgpCMW8t",
        "outputId": "04ae5825-450e-4028-9d5e-6eab7ecec9f3"
      },
      "execution_count": 14,
      "outputs": [
        {
          "output_type": "stream",
          "name": "stdout",
          "text": [
            "<tf.Variable 'Variable:0' shape=(3, 1) dtype=float32, numpy=\n",
            "array([[-0.27034837],\n",
            "       [ 0.37971136],\n",
            "       [ 0.5689325 ]], dtype=float32)>\n"
          ]
        }
      ]
    },
    {
      "cell_type": "code",
      "source": [
        "v.assign(tf.ones(shape=(3, 1)))  #use assign method to assign new values to a tf.Variable"
      ],
      "metadata": {
        "colab": {
          "base_uri": "https://localhost:8080/"
        },
        "id": "Cd3Q5wi7PxwL",
        "outputId": "009ea4fe-f241-465a-b33d-f0de4ada273f"
      },
      "execution_count": 15,
      "outputs": [
        {
          "output_type": "execute_result",
          "data": {
            "text/plain": [
              "<tf.Variable 'UnreadVariable' shape=(3, 1) dtype=float32, numpy=\n",
              "array([[1.],\n",
              "       [1.],\n",
              "       [1.]], dtype=float32)>"
            ]
          },
          "metadata": {},
          "execution_count": 15
        }
      ]
    },
    {
      "cell_type": "code",
      "source": [
        "v[0, 0].assign(3.)  #It also works for a subset of the coefficients"
      ],
      "metadata": {
        "colab": {
          "base_uri": "https://localhost:8080/"
        },
        "id": "NId0o_35QEX1",
        "outputId": "8dc068f7-613c-4c07-ac19-2ff6d970b42a"
      },
      "execution_count": 16,
      "outputs": [
        {
          "output_type": "execute_result",
          "data": {
            "text/plain": [
              "<tf.Variable 'UnreadVariable' shape=(3, 1) dtype=float32, numpy=\n",
              "array([[3.],\n",
              "       [1.],\n",
              "       [1.]], dtype=float32)>"
            ]
          },
          "metadata": {},
          "execution_count": 16
        }
      ]
    },
    {
      "cell_type": "code",
      "source": [
        "v.assign_add(tf.ones(shape=(3, 1)))  #assign_add() and assign_sub() are efficient equivalents of += and -="
      ],
      "metadata": {
        "colab": {
          "base_uri": "https://localhost:8080/"
        },
        "id": "3ElA0Wu5QaxV",
        "outputId": "b4f68a0a-a103-44a1-9050-6debd8d27720"
      },
      "execution_count": 17,
      "outputs": [
        {
          "output_type": "execute_result",
          "data": {
            "text/plain": [
              "<tf.Variable 'UnreadVariable' shape=(3, 1) dtype=float32, numpy=\n",
              "array([[4.],\n",
              "       [2.],\n",
              "       [2.]], dtype=float32)>"
            ]
          },
          "metadata": {},
          "execution_count": 17
        }
      ]
    },
    {
      "cell_type": "markdown",
      "source": [
        "##### Tensor operations: Doing math in TensorFlow"
      ],
      "metadata": {
        "id": "CP-KPriUR0bQ"
      }
    },
    {
      "cell_type": "code",
      "source": [
        "a = tf.ones(shape=(2, 2))\n",
        "print(a)"
      ],
      "metadata": {
        "colab": {
          "base_uri": "https://localhost:8080/"
        },
        "id": "fMw6I_F4Q1o9",
        "outputId": "7c50313d-34a1-4357-978b-62c42dcbb5fc"
      },
      "execution_count": 18,
      "outputs": [
        {
          "output_type": "stream",
          "name": "stdout",
          "text": [
            "tf.Tensor(\n",
            "[[1. 1.]\n",
            " [1. 1.]], shape=(2, 2), dtype=float32)\n"
          ]
        }
      ]
    },
    {
      "cell_type": "code",
      "source": [
        "b = tf.square(a)\n",
        "print(b)"
      ],
      "metadata": {
        "colab": {
          "base_uri": "https://localhost:8080/"
        },
        "id": "1FDbmYRdR-jT",
        "outputId": "38e3f433-4cac-4d43-eeb0-11ac02962ea1"
      },
      "execution_count": 19,
      "outputs": [
        {
          "output_type": "stream",
          "name": "stdout",
          "text": [
            "tf.Tensor(\n",
            "[[1. 1.]\n",
            " [1. 1.]], shape=(2, 2), dtype=float32)\n"
          ]
        }
      ]
    },
    {
      "cell_type": "code",
      "source": [
        "c = tf.sqrt(b)\n",
        "print(c)"
      ],
      "metadata": {
        "colab": {
          "base_uri": "https://localhost:8080/"
        },
        "id": "94RoWnbhSK9f",
        "outputId": "689a031f-bed9-4fcd-8f37-eb9f3cb1eab1"
      },
      "execution_count": 20,
      "outputs": [
        {
          "output_type": "stream",
          "name": "stdout",
          "text": [
            "tf.Tensor(\n",
            "[[1. 1.]\n",
            " [1. 1.]], shape=(2, 2), dtype=float32)\n"
          ]
        }
      ]
    },
    {
      "cell_type": "code",
      "source": [
        "d = b + c  #Add two tensors (element-wise).\n",
        "print(d)"
      ],
      "metadata": {
        "colab": {
          "base_uri": "https://localhost:8080/"
        },
        "id": "_nuvl717SW6y",
        "outputId": "b793d6e0-4b97-4d50-ba78-7b6f1a69d8ba"
      },
      "execution_count": 21,
      "outputs": [
        {
          "output_type": "stream",
          "name": "stdout",
          "text": [
            "tf.Tensor(\n",
            "[[2. 2.]\n",
            " [2. 2.]], shape=(2, 2), dtype=float32)\n"
          ]
        }
      ]
    },
    {
      "cell_type": "code",
      "source": [
        "e = tf.matmul(a, b)  #Take the product of two tensors\n",
        "print(e)"
      ],
      "metadata": {
        "colab": {
          "base_uri": "https://localhost:8080/"
        },
        "id": "HRZKV8uESdGZ",
        "outputId": "b585b6f1-e918-463e-e050-7e0dea516e6e"
      },
      "execution_count": 22,
      "outputs": [
        {
          "output_type": "stream",
          "name": "stdout",
          "text": [
            "tf.Tensor(\n",
            "[[2. 2.]\n",
            " [2. 2.]], shape=(2, 2), dtype=float32)\n"
          ]
        }
      ]
    },
    {
      "cell_type": "code",
      "source": [
        "e *= d  #Multiply two tensors(element-wise).\n",
        "print(e)"
      ],
      "metadata": {
        "colab": {
          "base_uri": "https://localhost:8080/"
        },
        "id": "7mDrMyoFSj5M",
        "outputId": "ad0a0591-5517-4c3a-ee9f-fcfe9e05a2fc"
      },
      "execution_count": 23,
      "outputs": [
        {
          "output_type": "stream",
          "name": "stdout",
          "text": [
            "tf.Tensor(\n",
            "[[4. 4.]\n",
            " [4. 4.]], shape=(2, 2), dtype=float32)\n"
          ]
        }
      ]
    },
    {
      "cell_type": "markdown",
      "source": [
        "##### The GradientTape API"
      ],
      "metadata": {
        "id": "WtJnDrsYT-GY"
      }
    },
    {
      "cell_type": "code",
      "source": [
        "# finding the gradient of tensorflow variables\n",
        "input_var = tf.Variable(initial_value=3.)\n",
        "with tf.GradientTape() as tape:\n",
        "  result = tf.square(input_var)\n",
        "gradient = tape.gradient(result, input_var)\n",
        "\n",
        "print(gradient)"
      ],
      "metadata": {
        "colab": {
          "base_uri": "https://localhost:8080/"
        },
        "id": "q7maepV3TCsr",
        "outputId": "d11bc688-8241-4437-83e0-7b6abdefddae"
      },
      "execution_count": 24,
      "outputs": [
        {
          "output_type": "stream",
          "name": "stdout",
          "text": [
            "tf.Tensor(6.0, shape=(), dtype=float32)\n"
          ]
        }
      ]
    },
    {
      "cell_type": "code",
      "source": [
        "# finding the gradient of tensorflow constant\n",
        "input_const = tf.constant(3.)\n",
        "with tf.GradientTape() as tape:\n",
        " tape.watch(input_const)\n",
        " result = tf.square(input_const)\n",
        "gradient = tape.gradient(result, input_const)\n",
        "\n",
        "print(gradient)"
      ],
      "metadata": {
        "colab": {
          "base_uri": "https://localhost:8080/"
        },
        "id": "y4ROrCVjUxXK",
        "outputId": "ce64c367-fe20-45c0-85d2-de11882bc71c"
      },
      "execution_count": 25,
      "outputs": [
        {
          "output_type": "stream",
          "name": "stdout",
          "text": [
            "tf.Tensor(6.0, shape=(), dtype=float32)\n"
          ]
        }
      ]
    },
    {
      "cell_type": "code",
      "source": [
        "# nested gradients\n",
        "time = tf.Variable(0.)\n",
        "with tf.GradientTape() as outer_tape:\n",
        " with tf.GradientTape() as inner_tape:\n",
        "    position = 4.9 * time ** 2\n",
        " speed = inner_tape.gradient(position, time)\n",
        "acceleration = outer_tape.gradient(speed, time)"
      ],
      "metadata": {
        "id": "4uz5D_Q5Wjkc"
      },
      "execution_count": 26,
      "outputs": []
    },
    {
      "cell_type": "markdown",
      "source": [
        "##### An end-to-end example: A linear classifier in pure TensorFlow"
      ],
      "metadata": {
        "id": "VJWKTnM-eL7w"
      }
    },
    {
      "cell_type": "markdown",
      "source": [
        "First, let’s come up with some nicely linearly separable synthetic data to work with: two classes of points in a 2D plane. We’ll generate each class of points by drawing their coordinates from a random distribution with a specific covariance matrix and a specific mean. Intuitively, the covariance matrix describes the shape of the point cloud, and the mean describes its position in the plane. We’ll reuse the samecovariance matrix for both point clouds, but we’ll use two different mean values—the point clouds will have the same shape, but different positions."
      ],
      "metadata": {
        "id": "OEzN5hMqewVs"
      }
    },
    {
      "cell_type": "code",
      "source": [
        "num_samples_per_class = 1000\n",
        "negative_samples = np.random.multivariate_normal(\n",
        " mean=[0, 3],\n",
        " cov=[[1, 0.5],[0.5, 1]],\n",
        " size=num_samples_per_class)\n",
        "positive_samples = np.random.multivariate_normal(\n",
        " mean=[3, 0],\n",
        " cov=[[1, 0.5],[0.5, 1]],\n",
        " size=num_samples_per_class)"
      ],
      "metadata": {
        "id": "1_YqusDMYZ3e"
      },
      "execution_count": 27,
      "outputs": []
    },
    {
      "cell_type": "code",
      "source": [
        "print(negative_samples)\n",
        "print(positive_samples)"
      ],
      "metadata": {
        "colab": {
          "base_uri": "https://localhost:8080/"
        },
        "id": "uKZNk0h1fpp2",
        "outputId": "cf52143e-6085-4ca2-f07a-f771c53fe1c4"
      },
      "execution_count": 28,
      "outputs": [
        {
          "output_type": "stream",
          "name": "stdout",
          "text": [
            "[[ 0.16178273  4.16122636]\n",
            " [-0.65064148  2.11899041]\n",
            " [ 2.03078525  3.95333018]\n",
            " ...\n",
            " [-0.30990899  4.26981473]\n",
            " [ 0.03221011  4.73028503]\n",
            " [-0.5311325   2.6783871 ]]\n",
            "[[ 4.19134545  0.83103906]\n",
            " [ 3.31157977 -0.39604927]\n",
            " [ 3.72870326  0.9887991 ]\n",
            " ...\n",
            " [ 3.23003761  1.33280645]\n",
            " [ 1.46852724 -0.19704405]\n",
            " [ 1.82567666 -0.63476534]]\n"
          ]
        }
      ]
    },
    {
      "cell_type": "markdown",
      "source": [
        "In the preceding code, negative_samples and positive_samples are both arrays with shape (1000, 2). Let’s stack them into a single array with shape (2000, 2)."
      ],
      "metadata": {
        "id": "sfhkDrCUfiuH"
      }
    },
    {
      "cell_type": "code",
      "source": [
        "inputs = np.vstack((negative_samples, positive_samples)).astype(np.float32)\n",
        "print(inputs)"
      ],
      "metadata": {
        "colab": {
          "base_uri": "https://localhost:8080/"
        },
        "id": "qdpUbWYcfEkS",
        "outputId": "dc855a40-a801-47df-9268-1caefa37adfb"
      },
      "execution_count": 29,
      "outputs": [
        {
          "output_type": "stream",
          "name": "stdout",
          "text": [
            "[[ 0.16178274  4.1612263 ]\n",
            " [-0.6506415   2.1189904 ]\n",
            " [ 2.0307853   3.9533303 ]\n",
            " ...\n",
            " [ 3.2300377   1.3328065 ]\n",
            " [ 1.4685272  -0.19704404]\n",
            " [ 1.8256767  -0.6347653 ]]\n"
          ]
        }
      ]
    },
    {
      "cell_type": "markdown",
      "source": [
        "Let’s generate the corresponding target labels, an array of zeros and ones of shape(2000, 1), where targets[i, 0] is 0 if inputs[i] belongs to class 0 (and inversely)."
      ],
      "metadata": {
        "id": "He-Fna6Mg8FW"
      }
    },
    {
      "cell_type": "code",
      "source": [
        "targets = np.vstack((np.zeros((num_samples_per_class, 1), dtype=\"float32\"), np.ones((num_samples_per_class, 1), dtype=\"float32\")))\n",
        "print(targets)"
      ],
      "metadata": {
        "colab": {
          "base_uri": "https://localhost:8080/"
        },
        "id": "KSl89S1dggYt",
        "outputId": "7d76b212-ac30-444b-9790-236c31c8f141"
      },
      "execution_count": 30,
      "outputs": [
        {
          "output_type": "stream",
          "name": "stdout",
          "text": [
            "[[0.]\n",
            " [0.]\n",
            " [0.]\n",
            " ...\n",
            " [1.]\n",
            " [1.]\n",
            " [1.]]\n"
          ]
        }
      ]
    },
    {
      "cell_type": "markdown",
      "source": [
        "Next, let’s plot our data with Matplotlib."
      ],
      "metadata": {
        "id": "1LjDU8omhUUl"
      }
    },
    {
      "cell_type": "code",
      "source": [
        "import matplotlib.pyplot as plt\n",
        "plt.scatter(inputs[:, 0], inputs[:, 1], c=targets[:, 0])\n",
        "plt.show()"
      ],
      "metadata": {
        "colab": {
          "base_uri": "https://localhost:8080/",
          "height": 430
        },
        "id": "8Yg65bu0hOg0",
        "outputId": "fbcebb47-e898-4167-a690-05d4167a3bf7"
      },
      "execution_count": 31,
      "outputs": [
        {
          "output_type": "display_data",
          "data": {
            "text/plain": [
              "<Figure size 640x480 with 1 Axes>"
            ],
            "image/png": "[encoded data removed]"
          },
          "metadata": {}
        }
      ]
    },
    {
      "cell_type": "markdown",
      "source": [
        "Now let’s create a linear classifier that can learn to separate these two blobs. A linear\n",
        "classifier is an affine transformation (prediction = W • input + b) trained to minimize\n",
        "the square of the difference between predictions and the targets."
      ],
      "metadata": {
        "id": "O8mqitjNh43a"
      }
    },
    {
      "cell_type": "code",
      "source": [
        "input_dim = 2\n",
        "output_dim = 1\n",
        "W = tf.Variable(initial_value=tf.random.uniform(shape=(input_dim, output_dim)))\n",
        "b = tf.Variable(initial_value=tf.zeros(shape=(output_dim,)))\n",
        "print(W)\n",
        "print(b)"
      ],
      "metadata": {
        "colab": {
          "base_uri": "https://localhost:8080/"
        },
        "id": "jJrA4X-fhfsL",
        "outputId": "1f498036-e3fb-4d9a-aad1-ba20b4d074c0"
      },
      "execution_count": 32,
      "outputs": [
        {
          "output_type": "stream",
          "name": "stdout",
          "text": [
            "<tf.Variable 'Variable:0' shape=(2, 1) dtype=float32, numpy=\n",
            "array([[0.7815951],\n",
            "       [0.9080975]], dtype=float32)>\n",
            "<tf.Variable 'Variable:0' shape=(1,) dtype=float32, numpy=array([0.], dtype=float32)>\n"
          ]
        }
      ]
    },
    {
      "cell_type": "markdown",
      "source": [
        "Here’s our forward pass function."
      ],
      "metadata": {
        "id": "eYZuxac80DEP"
      }
    },
    {
      "cell_type": "code",
      "source": [
        "def model(inputs):\n",
        "    return tf.matmul(inputs, W) + b"
      ],
      "metadata": {
        "id": "Pl5hhIWlzsVu"
      },
      "execution_count": 33,
      "outputs": []
    },
    {
      "cell_type": "markdown",
      "source": [
        "Because our linear classifier operates on 2D inputs, W is really just two scalar coefficients, w1 and w2: W = [[w1], [w2]]. Meanwhile, b is a single scalar coefficient. As such,\n",
        "for a given input point [x, y], its prediction value is prediction = [[w1], [w2]] • [x,\n",
        "y] + b = w1 * x + w2 * y + b.\n",
        "\n",
        "The following listing shows our loss function."
      ],
      "metadata": {
        "id": "iiEUnDsN0znO"
      }
    },
    {
      "cell_type": "code",
      "source": [
        "def square_loss(targets, predictions):\n",
        "    per_sample_losses = tf.square(targets - predictions)\n",
        "    return tf.reduce_mean(per_sample_losses)"
      ],
      "metadata": {
        "id": "43aB8SOL0Rhk"
      },
      "execution_count": 34,
      "outputs": []
    },
    {
      "cell_type": "markdown",
      "source": [
        "Next is the training step, which receives some training data and updates the weights W and b so as to minimize the loss on the data."
      ],
      "metadata": {
        "id": "ftyJoAz11fON"
      }
    },
    {
      "cell_type": "code",
      "source": [
        "learning_rate = 0.1\n",
        "\n",
        "def training_step(inputs, targets):\n",
        "    with tf.GradientTape() as tape:\n",
        "        predictions = model(inputs)\n",
        "        loss = square_loss(predictions, targets)\n",
        "    grad_loss_wrt_W, grad_loss_wrt_b = tape.gradient(loss, [W, b])\n",
        "    W.assign_sub(grad_loss_wrt_W * learning_rate)\n",
        "    b.assign_sub(grad_loss_wrt_b * learning_rate)\n",
        "    return loss"
      ],
      "metadata": {
        "id": "6Z3_xBGJ1SNf"
      },
      "execution_count": 35,
      "outputs": []
    },
    {
      "cell_type": "markdown",
      "source": [
        "For simplicity, we’ll do batch training instead of mini-batch training: we’ll run each training step (gradient computation and weight update) for all the data, rather than iterate over the data in small batches."
      ],
      "metadata": {
        "id": "tCYnN9Y-4THU"
      }
    },
    {
      "cell_type": "code",
      "source": [
        "for step in range(40):\n",
        "    loss = training_step(inputs, targets)\n",
        "    print(f\"Loss at step {step}: {loss:.4f}\")"
      ],
      "metadata": {
        "colab": {
          "base_uri": "https://localhost:8080/"
        },
        "id": "xyvEPtte2C6v",
        "outputId": "9f522ee3-3531-4cec-b1b5-458e575f9dc1"
      },
      "execution_count": 36,
      "outputs": [
        {
          "output_type": "stream",
          "name": "stdout",
          "text": [
            "Loss at step 0: 6.8679\n",
            "Loss at step 1: 1.0373\n",
            "Loss at step 2: 0.2848\n",
            "Loss at step 3: 0.1710\n",
            "Loss at step 4: 0.1460\n",
            "Loss at step 5: 0.1339\n",
            "Loss at step 6: 0.1243\n",
            "Loss at step 7: 0.1158\n",
            "Loss at step 8: 0.1080\n",
            "Loss at step 9: 0.1009\n",
            "Loss at step 10: 0.0944\n",
            "Loss at step 11: 0.0884\n",
            "Loss at step 12: 0.0830\n",
            "Loss at step 13: 0.0780\n",
            "Loss at step 14: 0.0734\n",
            "Loss at step 15: 0.0692\n",
            "Loss at step 16: 0.0654\n",
            "Loss at step 17: 0.0619\n",
            "Loss at step 18: 0.0587\n",
            "Loss at step 19: 0.0558\n",
            "Loss at step 20: 0.0531\n",
            "Loss at step 21: 0.0507\n",
            "Loss at step 22: 0.0484\n",
            "Loss at step 23: 0.0464\n",
            "Loss at step 24: 0.0445\n",
            "Loss at step 25: 0.0428\n",
            "Loss at step 26: 0.0412\n",
            "Loss at step 27: 0.0398\n",
            "Loss at step 28: 0.0385\n",
            "Loss at step 29: 0.0373\n",
            "Loss at step 30: 0.0362\n",
            "Loss at step 31: 0.0352\n",
            "Loss at step 32: 0.0342\n",
            "Loss at step 33: 0.0334\n",
            "Loss at step 34: 0.0326\n",
            "Loss at step 35: 0.0319\n",
            "Loss at step 36: 0.0313\n",
            "Loss at step 37: 0.0307\n",
            "Loss at step 38: 0.0302\n",
            "Loss at step 39: 0.0297\n"
          ]
        }
      ]
    },
    {
      "cell_type": "markdown",
      "source": [
        "After 40 steps, the training loss seems to have stabilized around 0.028. Let’s plot how\n",
        "our linear model classifies the training data points. Because our targets are zeros and\n",
        "ones, a given input point will be classified as “0” if its prediction value is below 0.5, and\n",
        "as “1” if it is above 0.5"
      ],
      "metadata": {
        "id": "3cDJlERb4xTH"
      }
    },
    {
      "cell_type": "code",
      "source": [
        "predictions = model(inputs)\n",
        "plt.scatter(inputs[:, 0], inputs[:, 1], c=predictions[:, 0] > 0.5)\n",
        "plt.show()"
      ],
      "metadata": {
        "colab": {
          "base_uri": "https://localhost:8080/",
          "height": 430
        },
        "id": "kkDA2x0I4g4e",
        "outputId": "96cf3ba4-8659-4844-f1ac-a08b3f3ad5c2"
      },
      "execution_count": 37,
      "outputs": [
        {
          "output_type": "display_data",
          "data": {
            "text/plain": [
              "<Figure size 640x480 with 1 Axes>"
            ],
            "image/png": "[encoded data removed]"
          },
          "metadata": {}
        }
      ]
    },
    {
      "cell_type": "markdown",
      "source": [
        "Recall that the prediction value for a given point [x, y] is simply prediction ==\n",
        "[[w1], [w2]] • [x, y] + b == w1 * x + w2 * y + b. Thus, class 0 is defined as w1 * x + w2 * y + b < 0.5, and class 1 is defined as w1 * x + w2 * y + b > 0.5. You’ll notice that what you’re looking at is really the equation of a line in the 2D plane: w1 * x + w2 * y + b = 0.5.\n",
        "Above the line is class 1, and below the line is class 0. You may be used to seeing line equations in the format y = a * x + b; in the same format, our line becomes y = - w1 / w2 * x + (0.5 - b) / w2.\n",
        "\n",
        "Let’s plot this line"
      ],
      "metadata": {
        "id": "bMGA24mN6BPC"
      }
    },
    {
      "cell_type": "code",
      "source": [
        "x = np.linspace(-1, 4, 100)\n",
        "y = - W[0] / W[1] * x + (0.5 - b) / W[1]\n",
        "plt.plot(x, y, \"-r\")\n",
        "plt.scatter(inputs[:, 0], inputs[:, 1], c=predictions[:, 0] > 0.5)"
      ],
      "metadata": {
        "colab": {
          "base_uri": "https://localhost:8080/",
          "height": 447
        },
        "id": "GT8oiQxi4-yp",
        "outputId": "bc4bdfa1-f947-4693-9fc1-528044bc1a67"
      },
      "execution_count": 38,
      "outputs": [
        {
          "output_type": "execute_result",
          "data": {
            "text/plain": [
              "<matplotlib.collections.PathCollection at 0x784f3b9b8d00>"
            ]
          },
          "metadata": {},
          "execution_count": 38
        },
        {
          "output_type": "display_data",
          "data": {
            "text/plain": [
              "<Figure size 640x480 with 1 Axes>"
            ],
            "image/png": "[encoded data removed]"
          },
          "metadata": {}
        }
      ]
    },
    {
      "cell_type": "markdown",
      "source": [
        "### Tensorflow with Keras"
      ],
      "metadata": {
        "id": "27vho_sXZs6T"
      }
    },
    {
      "cell_type": "markdown",
      "source": [
        "##### Layers in keras\n",
        "\n",
        "A Layer is an object that encapsulates some state (weights) and some computation\n",
        "(a forward pass). The weights are typically defined in a build() (although they could also be created in the constructor, __init__()), and the computation is defined in the call() method.\n",
        "\n",
        "Previously, we implemented a NaiveDense class that contained two\n",
        "weights W and b and applied the computation output = activation(dot(input, W) +\n",
        "b). This is what the same layer would look like in Keras."
      ],
      "metadata": {
        "id": "tRZQL5wtZ1WU"
      }
    },
    {
      "cell_type": "code",
      "source": [
        "import tensorflow as tf"
      ],
      "metadata": {
        "id": "UiDLQRnQwImR"
      },
      "execution_count": 4,
      "outputs": []
    },
    {
      "cell_type": "code",
      "source": [
        "from tensorflow import keras\n",
        "\n",
        "class SimpleDense(keras.layers.Layer):\n",
        "    def __init__(self, units, activation=None):\n",
        "        super().__init__()\n",
        "        self.units = units\n",
        "        self.activation = activation\n",
        "\n",
        "    def build(self, input_shape):\n",
        "        input_dim = input_shape[-1]\n",
        "        self.W = self.add_weight(shape=(input_dim, self.units), initializer=\"random_normal\")\n",
        "        self.b = self.add_weight(shape=(self.units,), initializer=\"zeros\")\n",
        "\n",
        "    def call(self, inputs):\n",
        "        y = tf.matmul(inputs, self.W) + self.b\n",
        "        if self.activation is not None:\n",
        "            y = self.activation(y)\n",
        "        return y"
      ],
      "metadata": {
        "id": "4ZJAHuaM6gDE"
      },
      "execution_count": 5,
      "outputs": []
    },
    {
      "cell_type": "code",
      "source": [
        "my_dense = SimpleDense(units=32, activation=tf.nn.relu)\n",
        "input_tensor = tf.ones(shape=(2, 784))\n",
        "output_tensor = my_dense(input_tensor)\n",
        "print(output_tensor.shape)"
      ],
      "metadata": {
        "colab": {
          "base_uri": "https://localhost:8080/"
        },
        "id": "Rqf6YLhitMts",
        "outputId": "00556f89-ccba-4ccc-c885-e9a592d1b5fc"
      },
      "execution_count": 3,
      "outputs": [
        {
          "output_type": "stream",
          "name": "stdout",
          "text": [
            "(2, 32)\n"
          ]
        }
      ]
    },
    {
      "cell_type": "code",
      "source": [
        "from tensorflow.keras import models\n",
        "from tensorflow.keras import layers\n",
        "model = keras.Sequential([keras.layers.Dense(1)])\n",
        "model.compile(optimizer=\"rmsprop\",\n",
        "  loss=\"mean_squared_error\",\n",
        "  metrics=[\"accuracy\"])"
      ],
      "metadata": {
        "id": "rkXZ-0OT06-5"
      },
      "execution_count": 39,
      "outputs": []
    },
    {
      "cell_type": "code",
      "source": [
        "history = model.fit(\n",
        " inputs,\n",
        " targets,\n",
        " epochs=5,\n",
        " batch_size=128\n",
        ")"
      ],
      "metadata": {
        "colab": {
          "base_uri": "https://localhost:8080/"
        },
        "id": "8gcCuDak3KF-",
        "outputId": "519c0009-1069-449a-8e5b-53fa51ef36a0"
      },
      "execution_count": 40,
      "outputs": [
        {
          "output_type": "stream",
          "name": "stdout",
          "text": [
            "Epoch 1/5\n",
            "16/16 [==============================] - 2s 5ms/step - loss: 17.4946 - accuracy: 0.4695\n",
            "Epoch 2/5\n",
            "16/16 [==============================] - 0s 4ms/step - loss: 16.8546 - accuracy: 0.4675\n",
            "Epoch 3/5\n",
            "16/16 [==============================] - 0s 3ms/step - loss: 16.3143 - accuracy: 0.4670\n",
            "Epoch 4/5\n",
            "16/16 [==============================] - 0s 3ms/step - loss: 15.7944 - accuracy: 0.4665\n",
            "Epoch 5/5\n",
            "16/16 [==============================] - 0s 5ms/step - loss: 15.2858 - accuracy: 0.4655\n"
          ]
        }
      ]
    },
    {
      "cell_type": "markdown",
      "source": [
        "#### Using the validation_data argument"
      ],
      "metadata": {
        "id": "F5oBYnqA4CVH"
      }
    },
    {
      "cell_type": "code",
      "source": [
        "model = keras.Sequential([keras.layers.Dense(1)])\n",
        "model.compile(optimizer=keras.optimizers.RMSprop(learning_rate=0.1),\n",
        "    loss=keras.losses.MeanSquaredError(),\n",
        "    metrics=[keras.metrics.BinaryAccuracy()])\n",
        "indices_permutation = np.random.permutation(len(inputs))\n",
        "shuffled_inputs = inputs[indices_permutation]\n",
        "shuffled_targets = targets[indices_permutation]\n",
        "num_validation_samples = int(0.3 * len(inputs))\n",
        "val_inputs = shuffled_inputs[:num_validation_samples]\n",
        "val_targets = shuffled_targets[:num_validation_samples]\n",
        "training_inputs = shuffled_inputs[num_validation_samples:]\n",
        "training_targets = shuffled_targets[num_validation_samples:]"
      ],
      "metadata": {
        "id": "gPwZyQ_a3UZc"
      },
      "execution_count": 41,
      "outputs": []
    },
    {
      "cell_type": "code",
      "source": [
        "model.fit(\n",
        "    training_inputs,\n",
        "    training_targets,\n",
        "    epochs=5,\n",
        "    batch_size=16,\n",
        "    validation_data=(val_inputs, val_targets)\n",
        ")"
      ],
      "metadata": {
        "colab": {
          "base_uri": "https://localhost:8080/"
        },
        "id": "Ut0VZbye4A-u",
        "outputId": "57ee352a-c512-4957-9310-f682dc820943"
      },
      "execution_count": 42,
      "outputs": [
        {
          "output_type": "stream",
          "name": "stdout",
          "text": [
            "Epoch 1/5\n",
            "88/88 [==============================] - 1s 8ms/step - loss: 0.1699 - binary_accuracy: 0.9314 - val_loss: 0.0245 - val_binary_accuracy: 0.9967\n",
            "Epoch 2/5\n",
            "88/88 [==============================] - 0s 5ms/step - loss: 0.0728 - binary_accuracy: 0.9643 - val_loss: 0.0373 - val_binary_accuracy: 0.9883\n",
            "Epoch 3/5\n",
            "88/88 [==============================] - 0s 5ms/step - loss: 0.0702 - binary_accuracy: 0.9600 - val_loss: 0.0597 - val_binary_accuracy: 0.9817\n",
            "Epoch 4/5\n",
            "88/88 [==============================] - 0s 3ms/step - loss: 0.0711 - binary_accuracy: 0.9614 - val_loss: 0.0353 - val_binary_accuracy: 0.9917\n",
            "Epoch 5/5\n",
            "88/88 [==============================] - 0s 5ms/step - loss: 0.0749 - binary_accuracy: 0.9586 - val_loss: 0.0924 - val_binary_accuracy: 0.9217\n"
          ]
        },
        {
          "output_type": "execute_result",
          "data": {
            "text/plain": [
              "<keras.src.callbacks.History at 0x784f183451e0>"
            ]
          },
          "metadata": {},
          "execution_count": 42
        }
      ]
    },
    {
      "cell_type": "code",
      "source": [
        "loss_and_metrics = model.evaluate(val_inputs, val_targets, batch_size=128)"
      ],
      "metadata": {
        "colab": {
          "base_uri": "https://localhost:8080/"
        },
        "id": "TsBKd9tI4LFd",
        "outputId": "3f5e5a37-6f96-491b-d673-fea6078913f7"
      },
      "execution_count": 43,
      "outputs": [
        {
          "output_type": "stream",
          "name": "stdout",
          "text": [
            "5/5 [==============================] - 0s 3ms/step - loss: 0.0924 - binary_accuracy: 0.9217\n"
          ]
        }
      ]
    },
    {
      "cell_type": "code",
      "source": [
        "predictions = model.predict(val_inputs, batch_size=128)\n",
        "print(predictions[:10])"
      ],
      "metadata": {
        "colab": {
          "base_uri": "https://localhost:8080/"
        },
        "id": "INjXdRkc4WtZ",
        "outputId": "726a24e5-39b4-4d0b-e55b-73b1d2f22930"
      },
      "execution_count": 45,
      "outputs": [
        {
          "output_type": "stream",
          "name": "stdout",
          "text": [
            "5/5 [==============================] - 0s 4ms/step\n",
            "[[ 0.7186683 ]\n",
            " [ 0.8988466 ]\n",
            " [-0.5659746 ]\n",
            " [ 0.69605756]\n",
            " [ 0.7895212 ]\n",
            " [ 0.18991727]\n",
            " [-0.07458314]\n",
            " [ 0.81369257]\n",
            " [-0.19285634]\n",
            " [-0.19522646]]\n"
          ]
        }
      ]
    },
    {
      "cell_type": "code",
      "source": [],
      "metadata": {
        "id": "SxlWkrUb4h2p"
      },
      "execution_count": null,
      "outputs": []
    }
  ]
}