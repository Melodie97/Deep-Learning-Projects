{
  "nbformat": 4,
  "nbformat_minor": 0,
  "metadata": {
    "colab": {
      "provenance": [],
      "gpuType": "T4"
    },
    "kernelspec": {
      "name": "python3",
      "display_name": "Python 3"
    },
    "language_info": {
      "name": "python"
    },
    "accelerator": "GPU"
  },
  "cells": [
    {
      "cell_type": "markdown",
      "source": [
        "## Classifying Grayscale Images"
      ],
      "metadata": {
        "id": "3RTg2H9oJVmi"
      }
    },
    {
      "cell_type": "markdown",
      "source": [
        "The problem we’re trying to solve here is to classify grayscale images of handwritten digits (28 × 28 pixels) into their 10 categories (0 through 9). We’ll use the MNIST dataset, a classic in the machine learning community, which has been around almost as long as the field itself and has been intensively studied. It’s a set of 60,000 training images, plus 10,000 test images, assembled by the National Institute of Standards and Technology (the NIST in MNIST) in the 1980s."
      ],
      "metadata": {
        "id": "dAwAxJujJIjQ"
      }
    },
    {
      "cell_type": "code",
      "execution_count": 1,
      "metadata": {
        "colab": {
          "base_uri": "https://localhost:8080/"
        },
        "id": "Sq8OqADpIiLJ",
        "outputId": "b7a7c767-5e86-4221-9063-3303331eb005"
      },
      "outputs": [
        {
          "output_type": "stream",
          "name": "stdout",
          "text": [
            "Downloading data from https://storage.googleapis.com/tensorflow/tf-keras-datasets/mnist.npz\n",
            "11490434/11490434 [==============================] - 0s 0us/step\n"
          ]
        }
      ],
      "source": [
        "from tensorflow.keras.datasets import mnist\n",
        "\n",
        "(train_images, train_labels), (test_images, test_labels) = mnist.load_data()"
      ]
    },
    {
      "cell_type": "code",
      "source": [
        "train_images.shape"
      ],
      "metadata": {
        "colab": {
          "base_uri": "https://localhost:8080/"
        },
        "id": "k8IELET5Jk1b",
        "outputId": "4e0d292d-7fd1-4e47-94e2-0d308970e968"
      },
      "execution_count": 2,
      "outputs": [
        {
          "output_type": "execute_result",
          "data": {
            "text/plain": [
              "(60000, 28, 28)"
            ]
          },
          "metadata": {},
          "execution_count": 2
        }
      ]
    },
    {
      "cell_type": "code",
      "source": [
        "len(train_labels)"
      ],
      "metadata": {
        "colab": {
          "base_uri": "https://localhost:8080/"
        },
        "id": "_NcvMxo0JpzB",
        "outputId": "e8e99fab-4672-47e5-ba43-25426ad7df79"
      },
      "execution_count": 3,
      "outputs": [
        {
          "output_type": "execute_result",
          "data": {
            "text/plain": [
              "60000"
            ]
          },
          "metadata": {},
          "execution_count": 3
        }
      ]
    },
    {
      "cell_type": "code",
      "source": [
        "train_labels"
      ],
      "metadata": {
        "colab": {
          "base_uri": "https://localhost:8080/"
        },
        "id": "SHUPWUXmJynp",
        "outputId": "8ab0b9db-3d96-4b38-bc3a-c695cfc07ae0"
      },
      "execution_count": 4,
      "outputs": [
        {
          "output_type": "execute_result",
          "data": {
            "text/plain": [
              "array([5, 0, 4, ..., 5, 6, 8], dtype=uint8)"
            ]
          },
          "metadata": {},
          "execution_count": 4
        }
      ]
    },
    {
      "cell_type": "code",
      "source": [
        "test_images.shape"
      ],
      "metadata": {
        "colab": {
          "base_uri": "https://localhost:8080/"
        },
        "id": "2uKzqtt6J0vq",
        "outputId": "dab2f19d-d151-4ffb-cc5a-744bc238f296"
      },
      "execution_count": 5,
      "outputs": [
        {
          "output_type": "execute_result",
          "data": {
            "text/plain": [
              "(10000, 28, 28)"
            ]
          },
          "metadata": {},
          "execution_count": 5
        }
      ]
    },
    {
      "cell_type": "code",
      "source": [
        "from tensorflow import keras\n",
        "from tensorflow.keras import layers\n",
        "\n",
        "model = keras.Sequential([\n",
        "    layers.Dense(512, activation=\"relu\"),\n",
        "    layers.Dense(10, activation=\"softmax\")\n",
        "])"
      ],
      "metadata": {
        "id": "HjMDOlc8KAoJ"
      },
      "execution_count": 6,
      "outputs": []
    },
    {
      "cell_type": "code",
      "source": [
        "model.compile(optimizer=\"rmsprop\",\n",
        "    loss=\"sparse_categorical_crossentropy\",\n",
        "    metrics=[\"accuracy\"])"
      ],
      "metadata": {
        "id": "zSCtNMbEKIe2"
      },
      "execution_count": 7,
      "outputs": []
    },
    {
      "cell_type": "markdown",
      "source": [
        "Before training, we’ll preprocess the data by reshaping it into the shape the model expects and scaling it so that all values are in the [0, 1] interval. Previously, our training images were stored in an array of shape (60000, 28, 28) of type uint8 with values in the [0, 255] interval. We’ll transform it into a float32 array of shape (60000, 28 * 28) with values between 0 and 1."
      ],
      "metadata": {
        "id": "vocPIP7IKZp0"
      }
    },
    {
      "cell_type": "code",
      "source": [
        "train_images = train_images.reshape((60000, 28 * 28))\n",
        "train_images = train_images.astype(\"float32\") / 255\n",
        "test_images = test_images.reshape((10000, 28 * 28))\n",
        "test_images = test_images.astype(\"float32\") / 255"
      ],
      "metadata": {
        "id": "CFE3SN_nKPlh"
      },
      "execution_count": 8,
      "outputs": []
    },
    {
      "cell_type": "code",
      "source": [
        "model.fit(train_images, train_labels, epochs=5, batch_size=128)"
      ],
      "metadata": {
        "colab": {
          "base_uri": "https://localhost:8080/"
        },
        "id": "B2SrrqHzKnzQ",
        "outputId": "f638d9a8-d02f-4a30-f648-f4ef5619a763"
      },
      "execution_count": 9,
      "outputs": [
        {
          "output_type": "stream",
          "name": "stdout",
          "text": [
            "Epoch 1/5\n",
            "469/469 [==============================] - 3s 3ms/step - loss: 0.2645 - accuracy: 0.9240\n",
            "Epoch 2/5\n",
            "469/469 [==============================] - 1s 3ms/step - loss: 0.1078 - accuracy: 0.9686\n",
            "Epoch 3/5\n",
            "469/469 [==============================] - 1s 3ms/step - loss: 0.0705 - accuracy: 0.9793\n",
            "Epoch 4/5\n",
            "469/469 [==============================] - 1s 3ms/step - loss: 0.0509 - accuracy: 0.9847\n",
            "Epoch 5/5\n",
            "469/469 [==============================] - 1s 3ms/step - loss: 0.0388 - accuracy: 0.9887\n"
          ]
        },
        {
          "output_type": "execute_result",
          "data": {
            "text/plain": [
              "<keras.src.callbacks.History at 0x7d8a73918fa0>"
            ]
          },
          "metadata": {},
          "execution_count": 9
        }
      ]
    },
    {
      "cell_type": "code",
      "source": [
        "test_digits = test_images[0:10]\n",
        "predictions = model.predict(test_digits)\n",
        "predictions[0]"
      ],
      "metadata": {
        "id": "pK4t11XFKryT",
        "colab": {
          "base_uri": "https://localhost:8080/"
        },
        "outputId": "d415e73d-6b17-4ce0-a145-8a6a5e80cc96"
      },
      "execution_count": 10,
      "outputs": [
        {
          "output_type": "stream",
          "name": "stdout",
          "text": [
            "1/1 [==============================] - 0s 66ms/step\n"
          ]
        },
        {
          "output_type": "execute_result",
          "data": {
            "text/plain": [
              "array([4.1387318e-07, 3.8013162e-09, 8.5159909e-06, 8.0611295e-05,\n",
              "       5.8251000e-12, 2.2399639e-07, 1.0475796e-11, 9.9990273e-01,\n",
              "       7.4316972e-08, 7.4734244e-06], dtype=float32)"
            ]
          },
          "metadata": {},
          "execution_count": 10
        }
      ]
    },
    {
      "cell_type": "markdown",
      "source": [
        "Each number of index i in that array corresponds to the probability that digit image\n",
        "test_digits[0] belongs to class i.\n",
        " This first test digit has the highest probability score (0.99999106, almost 1) at\n",
        "index 7, so according to our model, it must be a 7:"
      ],
      "metadata": {
        "id": "XKhbVrImBIFV"
      }
    },
    {
      "cell_type": "code",
      "source": [
        " predictions[0].argmax()"
      ],
      "metadata": {
        "colab": {
          "base_uri": "https://localhost:8080/"
        },
        "id": "uaqzCrwyA5JI",
        "outputId": "3dea7c4e-dc57-4c0e-a8e5-d55ac38a4170"
      },
      "execution_count": 11,
      "outputs": [
        {
          "output_type": "execute_result",
          "data": {
            "text/plain": [
              "7"
            ]
          },
          "metadata": {},
          "execution_count": 11
        }
      ]
    },
    {
      "cell_type": "code",
      "source": [
        "predictions[0][7]"
      ],
      "metadata": {
        "colab": {
          "base_uri": "https://localhost:8080/"
        },
        "id": "9eFdik9PBL3P",
        "outputId": "86a8d7f5-345b-4b1d-fef0-0d1873687c7c"
      },
      "execution_count": 12,
      "outputs": [
        {
          "output_type": "execute_result",
          "data": {
            "text/plain": [
              "0.9999027"
            ]
          },
          "metadata": {},
          "execution_count": 12
        }
      ]
    },
    {
      "cell_type": "code",
      "source": [
        "predictions"
      ],
      "metadata": {
        "colab": {
          "base_uri": "https://localhost:8080/"
        },
        "id": "fmhGpZVrBVb_",
        "outputId": "fab9e478-38ec-4efb-8640-41f302aae960"
      },
      "execution_count": 18,
      "outputs": [
        {
          "output_type": "execute_result",
          "data": {
            "text/plain": [
              "array([[4.13873181e-07, 3.80131615e-09, 8.51599088e-06, 8.06112948e-05,\n",
              "        5.82509995e-12, 2.23996395e-07, 1.04757956e-11, 9.99902725e-01,\n",
              "        7.43169721e-08, 7.47342438e-06],\n",
              "       [3.68125654e-08, 7.30353349e-05, 9.99915481e-01, 8.88692466e-06,\n",
              "        2.15359360e-13, 2.90919928e-08, 6.60888801e-08, 3.08300564e-12,\n",
              "        2.32629873e-06, 1.43907878e-12],\n",
              "       [1.17545675e-07, 9.99246120e-01, 1.89473707e-04, 6.52058907e-06,\n",
              "        6.85614068e-05, 5.31685146e-06, 5.87893464e-06, 2.37264438e-04,\n",
              "        2.34263280e-04, 6.56124075e-06],\n",
              "       [9.99970198e-01, 3.72092557e-09, 7.56569307e-06, 1.33332108e-07,\n",
              "        8.12242806e-09, 1.68526071e-07, 3.73375678e-06, 2.82310424e-07,\n",
              "        3.73550135e-10, 1.79274666e-05],\n",
              "       [2.02757633e-07, 2.71677097e-10, 4.99753605e-06, 3.59674379e-09,\n",
              "        9.99548376e-01, 8.77573836e-09, 6.77362891e-07, 1.08765717e-05,\n",
              "        2.61641731e-07, 4.34538350e-04],\n",
              "       [3.94139832e-09, 9.99599636e-01, 1.56802469e-06, 3.81455379e-07,\n",
              "        1.57441464e-05, 1.69976619e-08, 1.50749280e-08, 3.74632364e-04,\n",
              "        6.71559337e-06, 1.36351650e-06],\n",
              "       [3.37013251e-10, 3.51454304e-07, 1.18170121e-07, 3.58457690e-08,\n",
              "        9.99548852e-01, 8.80176412e-06, 3.17570027e-07, 2.41930484e-05,\n",
              "        1.07092237e-04, 3.10200994e-04],\n",
              "       [3.17227702e-08, 8.66454229e-06, 2.54905117e-05, 1.37579879e-02,\n",
              "        1.40219438e-03, 2.67796131e-05, 5.46638290e-10, 7.01101439e-04,\n",
              "        3.28140845e-06, 9.84074473e-01],\n",
              "       [4.06306739e-08, 1.25837431e-07, 2.09445925e-03, 3.74425508e-06,\n",
              "        6.23154338e-04, 9.11134958e-01, 8.24102238e-02, 5.50369066e-07,\n",
              "        3.63999791e-03, 9.28370209e-05],\n",
              "       [2.59989918e-10, 8.53337540e-11, 4.31392005e-10, 3.21146717e-06,\n",
              "        4.19169955e-04, 2.16083169e-08, 2.82736551e-12, 2.73374590e-05,\n",
              "        4.69828556e-05, 9.99503255e-01]], dtype=float32)"
            ]
          },
          "metadata": {},
          "execution_count": 18
        }
      ]
    },
    {
      "cell_type": "code",
      "source": [
        "test_loss, test_acc = model.evaluate(test_images, test_labels)\n",
        "print(f\"test_acc: {test_acc}\")"
      ],
      "metadata": {
        "colab": {
          "base_uri": "https://localhost:8080/"
        },
        "id": "W1AqAPvGBiXA",
        "outputId": "c47b5f9d-e6d0-4a47-abde-c5dd81b0348f"
      },
      "execution_count": 19,
      "outputs": [
        {
          "output_type": "stream",
          "name": "stdout",
          "text": [
            "313/313 [==============================] - 1s 3ms/step - loss: 0.0631 - accuracy: 0.9793\n",
            "test_acc: 0.9793000221252441\n"
          ]
        }
      ]
    },
    {
      "cell_type": "code",
      "source": [],
      "metadata": {
        "id": "FRYKDg32ELg8"
      },
      "execution_count": null,
      "outputs": []
    }
  ]
}